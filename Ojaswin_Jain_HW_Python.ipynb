{
  "nbformat": 4,
  "nbformat_minor": 0,
  "metadata": {
    "colab": {
      "name": "Ojaswin Jain- HW-Python.ipynb",
      "version": "0.3.2",
      "provenance": []
    },
    "kernelspec": {
      "name": "python3",
      "display_name": "Python 3"
    }
  },
  "cells": [
    {
      "cell_type": "markdown",
      "metadata": {
        "id": "rgZ8TWNfTTZo",
        "colab_type": "text"
      },
      "source": [
        "# Homework Assignment\n",
        "# Python Exercise\n",
        "# Ojaswin Jain\n",
        "# ojain@ualr.edu"
      ]
    },
    {
      "cell_type": "markdown",
      "metadata": {
        "id": "_gYcSdL5P1HD",
        "colab_type": "text"
      },
      "source": [
        "\n",
        "1.Write a function that return the lesser of two given numbers if both numbers are even but return the greater if one or both number are odd.\n",
        "\n",
        "2.Write a function that can print out board. Set up your board as a list where each index 1-9 corresponds with a number on number pad, so you get 3 by 3 representation.\n",
        "\n",
        "\n",
        "3.Given the string hello, give two methods of producing the letter ‘0’ using index.\n",
        "\n",
        "4.Define a function called nothing that takes in two arguments and return their sum."
      ]
    },
    {
      "cell_type": "markdown",
      "metadata": {
        "id": "sblqzJdvPzPm",
        "colab_type": "text"
      },
      "source": [
        "Solution 1:"
      ]
    },
    {
      "cell_type": "code",
      "metadata": {
        "id": "pTosy_Y5QIT1",
        "colab_type": "code",
        "outputId": "b69c6050-36d1-430a-fba9-49bcbb3e6e47",
        "colab": {
          "base_uri": "https://localhost:8080/",
          "height": 119
        }
      },
      "source": [
        "\n",
        "\n",
        "def num_return(a,b):#return lesser if both even, else return greater\n",
        "  if a>b:\n",
        "    greater = a\n",
        "    lesser = b\n",
        "  else:  \n",
        "    greater = b\n",
        "    lesser = a\n",
        "  if a%2==0 and b%2==0:\n",
        "    return lesser\n",
        "  else:\n",
        "   return greater\n",
        "print(num_return(2,4))\n",
        "print(num_return(8,6))\n",
        "print(num_return(3,5))\n",
        "print(num_return(-5,0))\n",
        "print(num_return(5,10))\n",
        "print(num_return(10,3))\n",
        "\n",
        "    "
      ],
      "execution_count": 0,
      "outputs": [
        {
          "output_type": "stream",
          "text": [
            "2\n",
            "6\n",
            "5\n",
            "0\n",
            "10\n",
            "10\n"
          ],
          "name": "stdout"
        }
      ]
    },
    {
      "cell_type": "markdown",
      "metadata": {
        "id": "tXkXHnMCSDQ3",
        "colab_type": "text"
      },
      "source": [
        "Solution 2:"
      ]
    },
    {
      "cell_type": "code",
      "metadata": {
        "id": "IcT3QG3oSFla",
        "colab_type": "code",
        "outputId": "ad5a426f-4a74-4570-fe54-7d2b50101f79",
        "colab": {
          "base_uri": "https://localhost:8080/",
          "height": 68
        }
      },
      "source": [
        "#print a board, use a list with indices 1-9\n",
        "\n",
        "board_list = [[1,2,3],[4,5,6],[7,8,9]]\n",
        "print(board_list[0])\n",
        "print(board_list[1])\n",
        "print(board_list[2])\n"
      ],
      "execution_count": 0,
      "outputs": [
        {
          "output_type": "stream",
          "text": [
            "[1, 2, 3]\n",
            "[4, 5, 6]\n",
            "[7, 8, 9]\n"
          ],
          "name": "stdout"
        }
      ]
    },
    {
      "cell_type": "markdown",
      "metadata": {
        "id": "yd34U08jSGSM",
        "colab_type": "text"
      },
      "source": [
        "Solution 3:"
      ]
    },
    {
      "cell_type": "code",
      "metadata": {
        "id": "RP4PEUPcSInF",
        "colab_type": "code",
        "outputId": "3d223185-efad-4b50-ff57-2afea7a4ae14",
        "colab": {
          "base_uri": "https://localhost:8080/",
          "height": 85
        }
      },
      "source": [
        "#Given string hello, return 'o'\n",
        "a= 'hello'\n",
        "print(a[-1])\n",
        "print(a[4])\n",
        "print(a[-1:])\n",
        "print(a[4:])"
      ],
      "execution_count": 0,
      "outputs": [
        {
          "output_type": "stream",
          "text": [
            "o\n",
            "o\n",
            "o\n",
            "o\n"
          ],
          "name": "stdout"
        }
      ]
    },
    {
      "cell_type": "markdown",
      "metadata": {
        "id": "INBaHO5kSyun",
        "colab_type": "text"
      },
      "source": [
        "Solution 4"
      ]
    },
    {
      "cell_type": "code",
      "metadata": {
        "id": "P4d7sUwPTxXb",
        "colab_type": "code",
        "outputId": "0e7251a9-ad37-404f-b911-140b8b3a6ba4",
        "colab": {
          "base_uri": "https://localhost:8080/",
          "height": 102
        }
      },
      "source": [
        "#write a function that returns sum of two numbers\n",
        "def nothing(a,b):\n",
        "  return a+b\n",
        "print(nothing(1,2))\n",
        "print(nothing(3,4))\n",
        "print(nothing(6,3))\n",
        "print(nothing(0,5))\n",
        "print(nothing(-5,4))\n",
        "\n"
      ],
      "execution_count": 0,
      "outputs": [
        {
          "output_type": "stream",
          "text": [
            "3\n",
            "7\n",
            "9\n",
            "5\n",
            "-1\n"
          ],
          "name": "stdout"
        }
      ]
    }
  ]
}